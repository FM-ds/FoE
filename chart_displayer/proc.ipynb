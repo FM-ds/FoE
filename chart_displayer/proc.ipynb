{
 "cells": [
  {
   "cell_type": "code",
   "execution_count": 2,
   "metadata": {},
   "outputs": [],
   "source": [
    "import pandas as pd\n",
    "import json"
   ]
  },
  {
   "cell_type": "code",
   "execution_count": 21,
   "metadata": {},
   "outputs": [],
   "source": [
    "orginal_df = pd.read_csv(\"https://docs.google.com/spreadsheet/ccc?key=1akgxeu_yXJJebhvCJd4yLHyv_E62asozGzi5PYUiUlo&output=csv\")"
   ]
  },
  {
   "cell_type": "code",
   "execution_count": 37,
   "metadata": {},
   "outputs": [],
   "source": [
    "df = orginal_df.copy()\n",
    "# downfill the Day and Event columns\n",
    "df['Day'] = df['Day'].ffill()\n",
    "df['Event'] = df['Event'].ffill()\n",
    "\n",
    "df = df.dropna(subset=['Path'])\n",
    "\n",
    "# ['Day', 'Event', 'Chart', 'Spec', 'Article ', 'Themes', 'Note', 'Path']\n",
    "df = df.rename(\n",
    "    columns={\n",
    "        \"Day\": \"day_theme\",\n",
    "        \"Event\" : \"event\",\n",
    "        \"Chart\": \"chart_title\",\n",
    "        \"Article \":\"article_url\",\n",
    "        \"Path\": \"path\"\n",
    "    }\n",
    ")\n",
    "\n",
    "df = df[[\"day_theme\", \"event\", \"chart_title\", \"article_url\", \"path\"]]\n",
    "\n",
    "# if the path doesn't start with https, add https://raw.githubusercontent.com/jhellingsdata/RADataHub/refs/heads/main\n",
    "\n",
    "df['path'] = df['path'].apply(lambda x: x.replace(\":\" ,\"%3A\") if not x.startswith(\"https\") else x)\n",
    "df['path'] = df['path'].apply(lambda x: x if x.startswith(\"https\") else f\"https://raw.githubusercontent.com/jhellingsdata/RADataHub/refs/heads/main/{x.lstrip('/')}\")\n",
    "\n",
    "df.to_csv(\"charts.csv\", index=False)"
   ]
  },
  {
   "cell_type": "code",
   "execution_count": 36,
   "metadata": {},
   "outputs": [
    {
     "data": {
      "text/plain": [
       "'https%3A//raw.githubusercontent.com/jhellingsdata/RADataHub/refs/heads/main/FoE_charts/Half Century British Economics/G8 Comparision%3A GDP growth'"
      ]
     },
     "execution_count": 36,
     "metadata": {},
     "output_type": "execute_result"
    }
   ],
   "source": [
    "df.iloc[1].path"
   ]
  },
  {
   "cell_type": "code",
   "execution_count": 23,
   "metadata": {},
   "outputs": [
    {
     "data": {
      "text/plain": [
       "Index(['day_theme', 'event', 'chart_title', 'Spec', 'Article ', 'Themes',\n",
       "       'Note', 'Path'],\n",
       "      dtype='object')"
      ]
     },
     "execution_count": 23,
     "metadata": {},
     "output_type": "execute_result"
    }
   ],
   "source": [
    "df.columns"
   ]
  }
 ],
 "metadata": {
  "kernelspec": {
   "display_name": "base",
   "language": "python",
   "name": "python3"
  },
  "language_info": {
   "codemirror_mode": {
    "name": "ipython",
    "version": 3
   },
   "file_extension": ".py",
   "mimetype": "text/x-python",
   "name": "python",
   "nbconvert_exporter": "python",
   "pygments_lexer": "ipython3",
   "version": "3.11.4"
  }
 },
 "nbformat": 4,
 "nbformat_minor": 2
}
